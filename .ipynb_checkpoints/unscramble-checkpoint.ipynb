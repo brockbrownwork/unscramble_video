{
 "cells": [
  {
   "cell_type": "code",
   "execution_count": 1,
   "id": "bf7061b0-e222-49e5-9b8b-fd4012f4ffad",
   "metadata": {},
   "outputs": [
    {
     "name": "stderr",
     "output_type": "stream",
     "text": [
      "100%|████████████████████████████████████████| 100/100 [00:10<00:00,  9.47it/s]\n"
     ]
    }
   ],
   "source": [
    "# Step 1. Grab a random assortment of frames from cab_ride_trimmed.py\n",
    "\n",
    "import cv2\n",
    "import numpy as np\n",
    "import random\n",
    "from tqdm import tqdm\n",
    "\n",
    "def random_frames_from_video(video_path, num_frames=5):\n",
    "    \"\"\"\n",
    "    Extracts random frames from a video and returns them as a list of NumPy arrays.\n",
    "    \n",
    "    Parameters:\n",
    "        video_path (str): Path to the video file.\n",
    "        num_frames (int): Number of random frames to extract.\n",
    "        \n",
    "    Returns:\n",
    "        list: List of NumPy arrays representing the frames.\n",
    "    \"\"\"\n",
    "    # Open the video using OpenCV\n",
    "    cap = cv2.VideoCapture(video_path)\n",
    "    total_frames = int(cap.get(cv2.CAP_PROP_FRAME_COUNT))\n",
    "\n",
    "    # Check if the video file was opened successfully\n",
    "    if not cap.isOpened():\n",
    "        print(\"Error: Couldn't open the video file.\")\n",
    "        return []\n",
    "\n",
    "    frames = []\n",
    "\n",
    "    for _ in tqdm(range(num_frames)):\n",
    "        # Get a random frame number\n",
    "        frame_num = random.randint(0, total_frames - 1)\n",
    "        # Set the video position to the frame number\n",
    "        cap.set(cv2.CAP_PROP_POS_FRAMES, frame_num)\n",
    "        # Read the frame\n",
    "        ret, frame = cap.read()\n",
    "\n",
    "        if ret:\n",
    "            frames.append(frame)\n",
    "\n",
    "    # Release the video capture object\n",
    "    cap.release()\n",
    "    \n",
    "    return frames\n",
    "\n",
    "# Extract random frames from the video\n",
    "frames = random_frames_from_video('cab_ride_trimmed.mkv', num_frames=1000)\n",
    "\n",
    "# The 'frames' list now contains 5 randomly extracted frames as NumPy arrays.\n",
    "# You can process these arrays as needed.\n"
   ]
  },
  {
   "cell_type": "code",
   "execution_count": 2,
   "id": "d3a67bfa-171d-4450-9a3e-486c5326bdce",
   "metadata": {},
   "outputs": [
    {
     "data": {
      "text/plain": [
       "array([26, 44, 71], dtype=uint8)"
      ]
     },
     "execution_count": 2,
     "metadata": {},
     "output_type": "execute_result"
    }
   ],
   "source": [
    "frames[0][0][0] # display the top left pixel"
   ]
  },
  {
   "cell_type": "code",
   "execution_count": null,
   "id": "3b5d8d1d-5dd1-45b3-815c-9030604d870e",
   "metadata": {},
   "outputs": [],
   "source": [
    "# Step 2: grab a "
   ]
  }
 ],
 "metadata": {
  "kernelspec": {
   "display_name": "Python 3 (ipykernel)",
   "language": "python",
   "name": "python3"
  },
  "language_info": {
   "codemirror_mode": {
    "name": "ipython",
    "version": 3
   },
   "file_extension": ".py",
   "mimetype": "text/x-python",
   "name": "python",
   "nbconvert_exporter": "python",
   "pygments_lexer": "ipython3",
   "version": "3.11.2"
  }
 },
 "nbformat": 4,
 "nbformat_minor": 5
}
